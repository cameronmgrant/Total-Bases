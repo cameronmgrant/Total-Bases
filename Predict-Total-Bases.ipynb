{
 "cells": [
  {
   "cell_type": "markdown",
   "id": "c52679b6",
   "metadata": {},
   "source": [
    "# Predicting total bases a player is expected from a starting pitcher\n",
    "\n",
    "Data provided by <a href=\"https://www.sports-reference.com/sharing.html?utm_source=direct&utm_medium=Share&utm_campaign=ShareTool\">Baseball-Reference.com</a>: <a href=\"https://www.baseball-reference.com/players/gl.fcgi?id=alonspe01&t=b&year=2022&utm_source=direct&utm_medium=Share&utm_campaign=ShareTool#batting_gamelogs\">View Original Table</a><br>Generated 8/8/2023."
   ]
  },
  {
   "cell_type": "code",
   "execution_count": 114,
   "id": "911ec142",
   "metadata": {},
   "outputs": [],
   "source": [
    "from urllib.request import urlopen\n",
    "from bs4 import BeautifulSoup\n",
    "import warnings\n",
    "warnings.simplefilter(action='ignore', category=FutureWarning)\n",
    "import validators\n",
    "from validators import ValidationFailure\n",
    "import pandas as pd\n",
    "import numpy as np"
   ]
  },
  {
   "cell_type": "code",
   "execution_count": 18,
   "id": "2dab27b9",
   "metadata": {},
   "outputs": [],
   "source": [
    "def get_name():\n",
    "    name = input(\"pitcher name 5 letters last name two letters first name: \")\n",
    "    return name"
   ]
  },
  {
   "cell_type": "code",
   "execution_count": 19,
   "id": "10af2663",
   "metadata": {},
   "outputs": [],
   "source": [
    "# get the throwing hand of the pitcher\n",
    "def get_hand():\n",
    "    if \"Left\" in str(soup.findAll('p')[1])[40:]:\n",
    "        hand = 0\n",
    "    else:\n",
    "        hand = 1\n",
    "    return hand"
   ]
  },
  {
   "cell_type": "code",
   "execution_count": 125,
   "id": "4fd2e554",
   "metadata": {},
   "outputs": [],
   "source": [
    "def get_column_names(soup):\n",
    "    soup.findAll('tr', limit=2)\n",
    "    if len(soup.findAll('tr', limit=2)) == 0:\n",
    "        return None\n",
    "    else:\n",
    "        # use getText()to extract the text we need into a list\n",
    "        headers = [th.getText() for th in soup.findAll('tr', limit=2)[0].findAll('th')]\n",
    "        # exclude the first column as we will not need the ranking order from Basketball Reference for the analysis\n",
    "        headers = headers[1:]\n",
    "        headers\n",
    "        return headers"
   ]
  },
  {
   "cell_type": "code",
   "execution_count": 50,
   "id": "e00272bd",
   "metadata": {},
   "outputs": [],
   "source": [
    "def get_data(soup, headers):\n",
    "    # avoid the first header row\n",
    "    rows = soup.findAll('tr')[1:]\n",
    "    player_stats = [[td.getText() for td in rows[i].findAll('td')]\n",
    "                for i in range(len(rows))]   \n",
    "    stats = pd.DataFrame(player_stats, columns = headers)\n",
    "    return stats"
   ]
  },
  {
   "cell_type": "code",
   "execution_count": 22,
   "id": "e6916fbd",
   "metadata": {},
   "outputs": [],
   "source": [
    "def remove_bad_rows(stats, rows):\n",
    "    remove = []\n",
    "    for i in range(rows):\n",
    "        if str(stats.loc[i]['Gcar']) == 'None' or stats.loc[i]['Gcar'] == '':\n",
    "            remove.append(i)\n",
    "    stats = stats.drop(remove)\n",
    "    return stats"
   ]
  },
  {
   "cell_type": "code",
   "execution_count": 139,
   "id": "ca1560ba",
   "metadata": {},
   "outputs": [],
   "source": [
    "def get_pitcher(name):\n",
    "    # 2021 season\n",
    "    pitcher_name = name\n",
    "    # URL page we will scraping (see image above)\n",
    "    # url = \"https://www.baseball-reference.com/players/gl.fcgi?id={}01&t=p&year=2021\".format(pitcher_name)\n",
    "    url = input(\"Game log year 2022: \")\n",
    "    url2 = url\n",
    "    url = url[:len(url) - 1] + '1'\n",
    "    print(url, url2)\n",
    "    # this is the HTML from the given URL\n",
    "    html = urlopen(url)\n",
    "    soup = BeautifulSoup(html)\n",
    "\n",
    "    hand = get_hand(soup)\n",
    "\n",
    "    headers = get_column_names(soup)\n",
    "    if headers == None:\n",
    "        html = urlopen(url2)\n",
    "        soup = BeautifulSoup(html)\n",
    "        headers = get_column_names(soup)\n",
    "        stats2 = get_data(soup, headers)\n",
    "        stats2 = remove_bad_rows(stats2, stats2.shape[0])\n",
    "        if hand == 0:\n",
    "            stats2[\"Hand\"] = np.zeros(stats2.shape[0])\n",
    "        else:\n",
    "            stats2[\"Hand\"] = np.ones(stats2.shape[0]) \n",
    "        return stats2\n",
    "    else:    \n",
    "        stats = get_data(soup, headers)    \n",
    "        stats = remove_bad_rows(stats, stats.shape[0])\n",
    "\n",
    "    # 2022 season\n",
    "    # URL page we will scraping (see image above)\n",
    "    # url = \"https://www.baseball-reference.com/players/gl.fcgi?id={}01&t=p&year=2022\".format(pitcher_name)\n",
    "\n",
    "    # this is the HTML from the given URL\n",
    "\n",
    "    html = urlopen(url2)\n",
    "    soup = BeautifulSoup(html)\n",
    "\n",
    "    stats2 = get_data(soup, headers)\n",
    "    stats2 = remove_bad_rows(stats2, stats2.shape[0])\n",
    "    stats = stats.append(stats2, ignore_index=True)\n",
    "    if hand == 0:\n",
    "        stats[\"Hand\"] = np.zeros(stats.shape[0])\n",
    "    else:\n",
    "        stats[\"Hand\"] = np.ones(stats.shape[0])   \n",
    "    return stats"
   ]
  },
  {
   "cell_type": "code",
   "execution_count": 265,
   "id": "5cbee3fb",
   "metadata": {},
   "outputs": [],
   "source": [
    "# this function drops rows we don't care about and averages out the last 20 games the pitcher has started\n",
    "def get_pitcher_avg(name, game_num):\n",
    "    space = name.index(' ')\n",
    "    if len(name[space+1:]) < 5:\n",
    "        search_name = name[space+1:]\n",
    "    else:\n",
    "        search_name = name[space+1:space+6]\n",
    "    search_name += name[0:2]\n",
    "    search_name = search_name.lower()\n",
    "    df = get_pitcher(search_name)\n",
    "    remove = []\n",
    "#    for i in range(len(df)):\n",
    "#        if str(df.loc[i]['IP']) == '0.0':\n",
    "#            remove.append(i)\n",
    "#    df = df.drop(remove)\n",
    "    df = df.drop(['Gtm', 'Date', 'Tm', '', 'Opp', 'Rslt', 'Inngs',\n",
    "       'Dec', 'DR', 'IP', 'R', 'ER', 'BB', 'SO', 'HBP', 'ERA', 'BF', 'Pit', 'Str', 'StL', 'StS', 'GB', 'FB', 'LD', 'PU', 'Unk',\n",
    "       'GSc', 'IR', 'IS', 'SB', 'CS', 'PO', 'AB', 'IBB', 'GDP',\n",
    "       'SF', 'ROE', 'aLI', 'WPA', 'acLI', 'cWPA', 'RE24', 'DFS(DK)', 'DFS(FD)',\n",
    "       'Entered', 'Exited'], axis = 1)\n",
    "    \n",
    "    df['Gcar'] = df['Gcar'].astype(int)\n",
    "    df['P_H'] = df['H'].astype(int)\n",
    "    df['P_HR'] = df['HR'].astype(int)\n",
    "    df['P_FIP'] = df['FIP'].astype(float)\n",
    "    df['P_2B'] = df['2B'].astype(int)\n",
    "    df['P_3B'] = df['3B'].astype(int)\n",
    "    df = df.drop(['H', 'HR', 'FIP', '2B', '3B'], axis = 1)\n",
    "    if game_num > 20:\n",
    "        avg = df.loc[(df['Gcar'] < game_num) & (df['Gcar'] > game_num - 21)].mean()\n",
    "    else:\n",
    "        avg = df.loc[(df['Gcar'] < game_num)].mean()\n",
    "             \n",
    "    avg = avg.drop(['Gcar'])\n",
    "    avg[\"Name\"] = name\n",
    "    avg[\"Career Game Number\"] = game_num\n",
    "    avg[\"Hand\"] = int(avg[\"Hand\"])\n",
    "    return avg"
   ]
  },
  {
   "cell_type": "code",
   "execution_count": 25,
   "id": "e503c815",
   "metadata": {},
   "outputs": [],
   "source": [
    "def add_pitcher (pitcher_name, game_num):\n",
    "    avg = get_pitcher_avg(pitcher_name, game_num)\n",
    "    pitcher = pd.DataFrame(avg).T\n",
    "    return pitcher\n"
   ]
  },
  {
   "cell_type": "code",
   "execution_count": 70,
   "id": "274f0325",
   "metadata": {},
   "outputs": [
    {
     "name": "stdout",
     "output_type": "stream",
     "text": [
      "Game log year 2022: https://www.baseball-reference.com/players/gl.fcgi?id=corbipa01&t=p&year=2022\n",
      "https://www.baseball-reference.com/players/gl.fcgi?id=corbipa01&t=p&year=2021 https://www.baseball-reference.com/players/gl.fcgi?id=corbipa01&t=p&year=2022\n"
     ]
    }
   ],
   "source": [
    "# beginning of data frame\n",
    "pitcher_against_mets_2022 = pd.DataFrame(add_pitcher(\"Patrick Corbin\", 248))"
   ]
  },
  {
   "cell_type": "code",
   "execution_count": 285,
   "id": "7ab82909",
   "metadata": {},
   "outputs": [
    {
     "name": "stdout",
     "output_type": "stream",
     "text": [
      "Game log year 2022: https://www.baseball-reference.com/players/gl.fcgi?id=espinpa01&t=p&year=2022\n",
      "https://www.baseball-reference.com/players/gl.fcgi?id=espinpa01&t=p&year=2021 https://www.baseball-reference.com/players/gl.fcgi?id=espinpa01&t=p&year=2022\n"
     ]
    },
    {
     "data": {
      "text/html": [
       "<div>\n",
       "<style scoped>\n",
       "    .dataframe tbody tr th:only-of-type {\n",
       "        vertical-align: middle;\n",
       "    }\n",
       "\n",
       "    .dataframe tbody tr th {\n",
       "        vertical-align: top;\n",
       "    }\n",
       "\n",
       "    .dataframe thead th {\n",
       "        text-align: right;\n",
       "    }\n",
       "</style>\n",
       "<table border=\"1\" class=\"dataframe\">\n",
       "  <thead>\n",
       "    <tr style=\"text-align: right;\">\n",
       "      <th></th>\n",
       "      <th>Hand</th>\n",
       "      <th>P_H</th>\n",
       "      <th>P_HR</th>\n",
       "      <th>P_FIP</th>\n",
       "      <th>P_2B</th>\n",
       "      <th>P_3B</th>\n",
       "      <th>Name</th>\n",
       "      <th>Career Game Number</th>\n",
       "    </tr>\n",
       "  </thead>\n",
       "  <tbody>\n",
       "    <tr>\n",
       "      <th>149</th>\n",
       "      <td>0</td>\n",
       "      <td>5.55</td>\n",
       "      <td>0.85</td>\n",
       "      <td>4.0385</td>\n",
       "      <td>1.1</td>\n",
       "      <td>0.15</td>\n",
       "      <td>Cole Irvin</td>\n",
       "      <td>79</td>\n",
       "    </tr>\n",
       "    <tr>\n",
       "      <th>150</th>\n",
       "      <td>0</td>\n",
       "      <td>5.25</td>\n",
       "      <td>0.75</td>\n",
       "      <td>4.63</td>\n",
       "      <td>2.25</td>\n",
       "      <td>0.25</td>\n",
       "      <td>Ken Waldichuk</td>\n",
       "      <td>5</td>\n",
       "    </tr>\n",
       "    <tr>\n",
       "      <th>151</th>\n",
       "      <td>0</td>\n",
       "      <td>3.8</td>\n",
       "      <td>0.533333</td>\n",
       "      <td>3.159333</td>\n",
       "      <td>0.666667</td>\n",
       "      <td>0.066667</td>\n",
       "      <td>JP Sears</td>\n",
       "      <td>16</td>\n",
       "    </tr>\n",
       "    <tr>\n",
       "      <th>152</th>\n",
       "      <td>1</td>\n",
       "      <td>5.35</td>\n",
       "      <td>0.75</td>\n",
       "      <td>3.578</td>\n",
       "      <td>1.35</td>\n",
       "      <td>0.2</td>\n",
       "      <td>Pablo Lopez</td>\n",
       "      <td>93</td>\n",
       "    </tr>\n",
       "    <tr>\n",
       "      <th>153</th>\n",
       "      <td>0</td>\n",
       "      <td>4.1</td>\n",
       "      <td>0.55</td>\n",
       "      <td>3.281</td>\n",
       "      <td>1.05</td>\n",
       "      <td>0.1</td>\n",
       "      <td>Jesus Luzardo</td>\n",
       "      <td>60</td>\n",
       "    </tr>\n",
       "    <tr>\n",
       "      <th>154</th>\n",
       "      <td>0</td>\n",
       "      <td>5.1</td>\n",
       "      <td>0.4</td>\n",
       "      <td>2.625</td>\n",
       "      <td>0.75</td>\n",
       "      <td>0.1</td>\n",
       "      <td>Max Fried</td>\n",
       "      <td>125</td>\n",
       "    </tr>\n",
       "    <tr>\n",
       "      <th>155</th>\n",
       "      <td>1</td>\n",
       "      <td>5.55</td>\n",
       "      <td>0.8</td>\n",
       "      <td>3.308</td>\n",
       "      <td>0.8</td>\n",
       "      <td>0.0</td>\n",
       "      <td>Kyle Wright</td>\n",
       "      <td>51</td>\n",
       "    </tr>\n",
       "    <tr>\n",
       "      <th>156</th>\n",
       "      <td>1</td>\n",
       "      <td>4.4</td>\n",
       "      <td>1.0</td>\n",
       "      <td>4.0985</td>\n",
       "      <td>0.75</td>\n",
       "      <td>0.05</td>\n",
       "      <td>Charlie Morton</td>\n",
       "      <td>323</td>\n",
       "    </tr>\n",
       "    <tr>\n",
       "      <th>157</th>\n",
       "      <td>1</td>\n",
       "      <td>2.7</td>\n",
       "      <td>0.85</td>\n",
       "      <td>6.2615</td>\n",
       "      <td>0.65</td>\n",
       "      <td>0.0</td>\n",
       "      <td>Cory Abbott</td>\n",
       "      <td>23</td>\n",
       "    </tr>\n",
       "    <tr>\n",
       "      <th>158</th>\n",
       "      <td>1</td>\n",
       "      <td>4.95</td>\n",
       "      <td>0.95</td>\n",
       "      <td>4.4675</td>\n",
       "      <td>0.7</td>\n",
       "      <td>0.05</td>\n",
       "      <td>Paolo Espiono</td>\n",
       "      <td>91</td>\n",
       "    </tr>\n",
       "  </tbody>\n",
       "</table>\n",
       "</div>"
      ],
      "text/plain": [
       "    Hand   P_H      P_HR     P_FIP      P_2B      P_3B            Name  \\\n",
       "149    0  5.55      0.85    4.0385       1.1      0.15      Cole Irvin   \n",
       "150    0  5.25      0.75      4.63      2.25      0.25   Ken Waldichuk   \n",
       "151    0   3.8  0.533333  3.159333  0.666667  0.066667        JP Sears   \n",
       "152    1  5.35      0.75     3.578      1.35       0.2     Pablo Lopez   \n",
       "153    0   4.1      0.55     3.281      1.05       0.1   Jesus Luzardo   \n",
       "154    0   5.1       0.4     2.625      0.75       0.1       Max Fried   \n",
       "155    1  5.55       0.8     3.308       0.8       0.0     Kyle Wright   \n",
       "156    1   4.4       1.0    4.0985      0.75      0.05  Charlie Morton   \n",
       "157    1   2.7      0.85    6.2615      0.65       0.0     Cory Abbott   \n",
       "158    1  4.95      0.95    4.4675       0.7      0.05   Paolo Espiono   \n",
       "\n",
       "    Career Game Number  \n",
       "149                 79  \n",
       "150                  5  \n",
       "151                 16  \n",
       "152                 93  \n",
       "153                 60  \n",
       "154                125  \n",
       "155                 51  \n",
       "156                323  \n",
       "157                 23  \n",
       "158                 91  "
      ]
     },
     "execution_count": 285,
     "metadata": {},
     "output_type": "execute_result"
    }
   ],
   "source": [
    "# add each starting pitcher skipping games Pete Alonso didn't play, and pitchers debuts\n",
    "pitcher_against_mets_2022 = pitcher_against_mets_2022.append(add_pitcher(\"Paolo Espiono\", 91), ignore_index=True)\n",
    "pitcher_against_mets_2022.tail(10)"
   ]
  },
  {
   "cell_type": "code",
   "execution_count": 291,
   "id": "3330af71",
   "metadata": {},
   "outputs": [],
   "source": [
    "pitcher_against_mets_2022.to_csv(\"pitchers_against_mets.csv\", index = False)"
   ]
  },
  {
   "cell_type": "code",
   "execution_count": 292,
   "id": "3b7ddbe2",
   "metadata": {},
   "outputs": [],
   "source": [
    "test = pd.read_csv(\"pitchers_against_mets.csv\")"
   ]
  },
  {
   "cell_type": "code",
   "execution_count": 293,
   "id": "630568b7",
   "metadata": {},
   "outputs": [
    {
     "data": {
      "text/html": [
       "<div>\n",
       "<style scoped>\n",
       "    .dataframe tbody tr th:only-of-type {\n",
       "        vertical-align: middle;\n",
       "    }\n",
       "\n",
       "    .dataframe tbody tr th {\n",
       "        vertical-align: top;\n",
       "    }\n",
       "\n",
       "    .dataframe thead th {\n",
       "        text-align: right;\n",
       "    }\n",
       "</style>\n",
       "<table border=\"1\" class=\"dataframe\">\n",
       "  <thead>\n",
       "    <tr style=\"text-align: right;\">\n",
       "      <th></th>\n",
       "      <th>Hand</th>\n",
       "      <th>P_H</th>\n",
       "      <th>P_HR</th>\n",
       "      <th>P_FIP</th>\n",
       "      <th>P_2B</th>\n",
       "      <th>P_3B</th>\n",
       "      <th>Name</th>\n",
       "      <th>Career Game Number</th>\n",
       "    </tr>\n",
       "  </thead>\n",
       "  <tbody>\n",
       "    <tr>\n",
       "      <th>0</th>\n",
       "      <td>0</td>\n",
       "      <td>6.35</td>\n",
       "      <td>1.250000</td>\n",
       "      <td>5.362500</td>\n",
       "      <td>1.050000</td>\n",
       "      <td>0.150000</td>\n",
       "      <td>Patrick Corbin</td>\n",
       "      <td>248</td>\n",
       "    </tr>\n",
       "    <tr>\n",
       "      <th>1</th>\n",
       "      <td>1</td>\n",
       "      <td>4.50</td>\n",
       "      <td>1.357143</td>\n",
       "      <td>6.971429</td>\n",
       "      <td>0.714286</td>\n",
       "      <td>0.142857</td>\n",
       "      <td>Josiah Gray</td>\n",
       "      <td>15</td>\n",
       "    </tr>\n",
       "    <tr>\n",
       "      <th>2</th>\n",
       "      <td>1</td>\n",
       "      <td>6.00</td>\n",
       "      <td>1.000000</td>\n",
       "      <td>4.480000</td>\n",
       "      <td>0.000000</td>\n",
       "      <td>0.000000</td>\n",
       "      <td>Joan Adon</td>\n",
       "      <td>2</td>\n",
       "    </tr>\n",
       "    <tr>\n",
       "      <th>3</th>\n",
       "      <td>1</td>\n",
       "      <td>5.45</td>\n",
       "      <td>0.900000</td>\n",
       "      <td>4.520000</td>\n",
       "      <td>1.050000</td>\n",
       "      <td>0.050000</td>\n",
       "      <td>Erick Fedde</td>\n",
       "      <td>76</td>\n",
       "    </tr>\n",
       "    <tr>\n",
       "      <th>4</th>\n",
       "      <td>0</td>\n",
       "      <td>2.95</td>\n",
       "      <td>0.100000</td>\n",
       "      <td>3.169500</td>\n",
       "      <td>0.300000</td>\n",
       "      <td>0.050000</td>\n",
       "      <td>Ranger Suarez</td>\n",
       "      <td>84</td>\n",
       "    </tr>\n",
       "  </tbody>\n",
       "</table>\n",
       "</div>"
      ],
      "text/plain": [
       "   Hand   P_H      P_HR     P_FIP      P_2B      P_3B            Name  \\\n",
       "0     0  6.35  1.250000  5.362500  1.050000  0.150000  Patrick Corbin   \n",
       "1     1  4.50  1.357143  6.971429  0.714286  0.142857     Josiah Gray   \n",
       "2     1  6.00  1.000000  4.480000  0.000000  0.000000       Joan Adon   \n",
       "3     1  5.45  0.900000  4.520000  1.050000  0.050000     Erick Fedde   \n",
       "4     0  2.95  0.100000  3.169500  0.300000  0.050000   Ranger Suarez   \n",
       "\n",
       "   Career Game Number  \n",
       "0                 248  \n",
       "1                  15  \n",
       "2                   2  \n",
       "3                  76  \n",
       "4                  84  "
      ]
     },
     "execution_count": 293,
     "metadata": {},
     "output_type": "execute_result"
    }
   ],
   "source": [
    "test.head()"
   ]
  },
  {
   "cell_type": "code",
   "execution_count": 342,
   "id": "7433935a",
   "metadata": {},
   "outputs": [],
   "source": [
    "pete_alonso = pd.read_csv(\"pete_alonso.csv\")"
   ]
  },
  {
   "cell_type": "code",
   "execution_count": 297,
   "id": "24deb1ab",
   "metadata": {},
   "outputs": [
    {
     "data": {
      "text/plain": [
       "Index(['Rk', 'Gcar', 'Gtm', 'Date', 'Tm', 'Unnamed: 5', 'Opp', 'Rslt', 'Inngs',\n",
       "       'PA', 'AB', 'R', 'H', '2B', '3B', 'HR', 'RBI', 'BB', 'IBB', 'SO', 'HBP',\n",
       "       'SH', 'SF', 'ROE', 'GDP', 'SB', 'CS', 'BA', 'OBP', 'SLG', 'OPS', 'BOP',\n",
       "       'aLI', 'WPA', 'acLI', 'cWPA', 'RE24', 'DFS(DK)', 'DFS(FD)', 'Pos'],\n",
       "      dtype='object')"
      ]
     },
     "execution_count": 297,
     "metadata": {},
     "output_type": "execute_result"
    }
   ],
   "source": [
    "pete_alonso.columns"
   ]
  },
  {
   "cell_type": "code",
   "execution_count": 343,
   "id": "ea7951e8",
   "metadata": {},
   "outputs": [],
   "source": [
    "pete_alonso['TB'] = pete_alonso['HR'] * 4 + pete_alonso['3B'] * 3 + pete_alonso['2B'] * 2 + (pete_alonso['H'] - pete_alonso['HR'] - pete_alonso['3B'] - pete_alonso['2B'])"
   ]
  },
  {
   "cell_type": "code",
   "execution_count": 348,
   "id": "cc24a858",
   "metadata": {},
   "outputs": [],
   "source": [
    "pitcher_against_mets_2022['Pete Alonso TB'] = pete_alonso['TB']"
   ]
  },
  {
   "cell_type": "code",
   "execution_count": 351,
   "id": "62585500",
   "metadata": {},
   "outputs": [
    {
     "data": {
      "text/html": [
       "<div>\n",
       "<style scoped>\n",
       "    .dataframe tbody tr th:only-of-type {\n",
       "        vertical-align: middle;\n",
       "    }\n",
       "\n",
       "    .dataframe tbody tr th {\n",
       "        vertical-align: top;\n",
       "    }\n",
       "\n",
       "    .dataframe thead th {\n",
       "        text-align: right;\n",
       "    }\n",
       "</style>\n",
       "<table border=\"1\" class=\"dataframe\">\n",
       "  <thead>\n",
       "    <tr style=\"text-align: right;\">\n",
       "      <th></th>\n",
       "      <th>Hand</th>\n",
       "      <th>P_H</th>\n",
       "      <th>P_HR</th>\n",
       "      <th>P_FIP</th>\n",
       "      <th>P_2B</th>\n",
       "      <th>P_3B</th>\n",
       "      <th>Name</th>\n",
       "      <th>Career Game Number</th>\n",
       "      <th>Pete Alonso TB</th>\n",
       "    </tr>\n",
       "  </thead>\n",
       "  <tbody>\n",
       "    <tr>\n",
       "      <th>0</th>\n",
       "      <td>0</td>\n",
       "      <td>6.35</td>\n",
       "      <td>1.25</td>\n",
       "      <td>5.3625</td>\n",
       "      <td>1.05</td>\n",
       "      <td>0.15</td>\n",
       "      <td>Patrick Corbin</td>\n",
       "      <td>248</td>\n",
       "      <td>2</td>\n",
       "    </tr>\n",
       "    <tr>\n",
       "      <th>1</th>\n",
       "      <td>1</td>\n",
       "      <td>4.5</td>\n",
       "      <td>1.357143</td>\n",
       "      <td>6.971429</td>\n",
       "      <td>0.714286</td>\n",
       "      <td>0.142857</td>\n",
       "      <td>Josiah Gray</td>\n",
       "      <td>15</td>\n",
       "      <td>2</td>\n",
       "    </tr>\n",
       "    <tr>\n",
       "      <th>2</th>\n",
       "      <td>1</td>\n",
       "      <td>6.0</td>\n",
       "      <td>1.0</td>\n",
       "      <td>4.48</td>\n",
       "      <td>0.0</td>\n",
       "      <td>0.0</td>\n",
       "      <td>Joan Adon</td>\n",
       "      <td>2</td>\n",
       "      <td>4</td>\n",
       "    </tr>\n",
       "    <tr>\n",
       "      <th>3</th>\n",
       "      <td>1</td>\n",
       "      <td>5.45</td>\n",
       "      <td>0.9</td>\n",
       "      <td>4.52</td>\n",
       "      <td>1.05</td>\n",
       "      <td>0.05</td>\n",
       "      <td>Erick Fedde</td>\n",
       "      <td>76</td>\n",
       "      <td>0</td>\n",
       "    </tr>\n",
       "    <tr>\n",
       "      <th>4</th>\n",
       "      <td>0</td>\n",
       "      <td>2.95</td>\n",
       "      <td>0.1</td>\n",
       "      <td>3.1695</td>\n",
       "      <td>0.3</td>\n",
       "      <td>0.05</td>\n",
       "      <td>Ranger Suarez</td>\n",
       "      <td>84</td>\n",
       "      <td>0</td>\n",
       "    </tr>\n",
       "  </tbody>\n",
       "</table>\n",
       "</div>"
      ],
      "text/plain": [
       "  Hand   P_H      P_HR     P_FIP      P_2B      P_3B            Name  \\\n",
       "0    0  6.35      1.25    5.3625      1.05      0.15  Patrick Corbin   \n",
       "1    1   4.5  1.357143  6.971429  0.714286  0.142857     Josiah Gray   \n",
       "2    1   6.0       1.0      4.48       0.0       0.0       Joan Adon   \n",
       "3    1  5.45       0.9      4.52      1.05      0.05     Erick Fedde   \n",
       "4    0  2.95       0.1    3.1695       0.3      0.05   Ranger Suarez   \n",
       "\n",
       "  Career Game Number  Pete Alonso TB  \n",
       "0                248               2  \n",
       "1                 15               2  \n",
       "2                  2               4  \n",
       "3                 76               0  \n",
       "4                 84               0  "
      ]
     },
     "execution_count": 351,
     "metadata": {},
     "output_type": "execute_result"
    }
   ],
   "source": [
    "pitcher_against_mets_2022.head()"
   ]
  },
  {
   "cell_type": "markdown",
   "id": "922b40e4",
   "metadata": {},
   "source": [
    "I just combined Pete's total base count to the actual pitcher and their stats. Now we will build the model."
   ]
  },
  {
   "cell_type": "code",
   "execution_count": 353,
   "id": "43e7bc21",
   "metadata": {},
   "outputs": [],
   "source": [
    "import matplotlib.pyplot as plt\n",
    "import seaborn as sns\n",
    "\n",
    "%matplotlib inline\n",
    "\n",
    "from sklearn.linear_model import SGDRegressor\n",
    "\n",
    "from sklearn.model_selection import train_test_split"
   ]
  },
  {
   "cell_type": "code",
   "execution_count": 354,
   "id": "0653c8d9",
   "metadata": {},
   "outputs": [],
   "source": [
    "# Feature selection\n",
    "features = ['Hand', 'P_H', 'P_HR', 'P_FIP', 'P_2B', 'P_3B']"
   ]
  },
  {
   "cell_type": "code",
   "execution_count": 355,
   "id": "0f26215f",
   "metadata": {},
   "outputs": [
    {
     "data": {
      "text/plain": [
       "Hand                  0\n",
       "P_H                   0\n",
       "P_HR                  0\n",
       "P_FIP                 0\n",
       "P_2B                  0\n",
       "P_3B                  0\n",
       "Name                  0\n",
       "Career Game Number    0\n",
       "Pete Alonso TB        0\n",
       "dtype: int64"
      ]
     },
     "execution_count": 355,
     "metadata": {},
     "output_type": "execute_result"
    }
   ],
   "source": [
    "pitcher_against_mets_2022.isna().sum() # Check for missing values"
   ]
  },
  {
   "cell_type": "code",
   "execution_count": 356,
   "id": "c3def5c5",
   "metadata": {},
   "outputs": [
    {
     "data": {
      "text/plain": [
       "0    2\n",
       "1    2\n",
       "2    4\n",
       "3    0\n",
       "4    0\n",
       "Name: Pete Alonso TB, dtype: int64"
      ]
     },
     "execution_count": 356,
     "metadata": {},
     "output_type": "execute_result"
    }
   ],
   "source": [
    "target = pitcher_against_mets_2022['Pete Alonso TB']\n",
    "target.head()"
   ]
  },
  {
   "cell_type": "code",
   "execution_count": 357,
   "id": "8540666f",
   "metadata": {},
   "outputs": [],
   "source": [
    "X = pitcher_against_mets_2022[features]\n",
    "y = target"
   ]
  },
  {
   "cell_type": "code",
   "execution_count": 358,
   "id": "ac4677eb",
   "metadata": {},
   "outputs": [],
   "source": [
    "# Splitting the data\n",
    "X_train, X_test, y_train, y_test = train_test_split(X, y, test_size=0.2, random_state=42)"
   ]
  },
  {
   "cell_type": "code",
   "execution_count": 364,
   "id": "04515572",
   "metadata": {},
   "outputs": [],
   "source": [
    "from sklearn.metrics import mean_squared_error\n",
    "from sklearn.metrics import mean_absolute_error\n",
    "from math import sqrt"
   ]
  },
  {
   "cell_type": "code",
   "execution_count": 375,
   "id": "cef1022f",
   "metadata": {},
   "outputs": [],
   "source": [
    "SGD = SGDRegressor(eta0=0.001)\n",
    "SGD.fit(X_train, y_train)\n",
    "\n",
    "y_preds = SGD.predict(X_test)"
   ]
  },
  {
   "cell_type": "code",
   "execution_count": 376,
   "id": "78d83301",
   "metadata": {},
   "outputs": [
    {
     "data": {
      "text/plain": [
       "array([2.71387408, 1.92073774, 1.75585151, 1.57889716, 1.77482958,\n",
       "       1.14925123, 1.69285714, 1.3958007 , 1.57479564, 1.84375771,\n",
       "       1.89239655, 1.73102146, 1.4583914 , 1.88101448, 1.65772726,\n",
       "       2.3560422 , 2.3649455 , 2.47157589, 1.77162162, 2.03634672,\n",
       "       1.44544464, 0.82466632, 1.29499009, 1.48289268, 1.65506891,\n",
       "       2.18784289, 1.80960625, 1.89209648, 1.34892486, 1.94620928,\n",
       "       1.49577546, 1.80602275])"
      ]
     },
     "execution_count": 376,
     "metadata": {},
     "output_type": "execute_result"
    }
   ],
   "source": [
    "# Evaluation\n",
    "y_preds"
   ]
  },
  {
   "cell_type": "code",
   "execution_count": 372,
   "id": "c28524cf",
   "metadata": {},
   "outputs": [
    {
     "data": {
      "text/plain": [
       "array([0, 1, 1, 1, 4, 9, 4, 0, 3, 4, 1, 2, 0, 2, 2, 1, 1, 4, 0, 1, 9, 0,\n",
       "       3, 4, 5, 1, 4, 0, 0, 4, 2, 0])"
      ]
     },
     "execution_count": 372,
     "metadata": {},
     "output_type": "execute_result"
    }
   ],
   "source": [
    "np.array(y_test)"
   ]
  },
  {
   "cell_type": "code",
   "execution_count": 380,
   "id": "5458feb6",
   "metadata": {},
   "outputs": [
    {
     "data": {
      "text/plain": [
       "-0.1495443846433251"
      ]
     },
     "execution_count": 380,
     "metadata": {},
     "output_type": "execute_result"
    }
   ],
   "source": [
    "SGD.score(X_test, y_test)"
   ]
  },
  {
   "cell_type": "code",
   "execution_count": 381,
   "id": "cbf423f7",
   "metadata": {},
   "outputs": [],
   "source": [
    "# Different model\n",
    "from sklearn.ensemble import GradientBoostingRegressor\n",
    "GB = GradientBoostingRegressor()\n",
    "GB.fit(X_train, y_train)\n",
    "\n",
    "y_preds = GB.predict(X_test)\n"
   ]
  },
  {
   "cell_type": "code",
   "execution_count": 382,
   "id": "f89d02a0",
   "metadata": {},
   "outputs": [
    {
     "data": {
      "text/plain": [
       "1.9055678162169807"
      ]
     },
     "execution_count": 382,
     "metadata": {},
     "output_type": "execute_result"
    }
   ],
   "source": [
    "mean_absolute_error(y_test, y_preds)"
   ]
  },
  {
   "cell_type": "code",
   "execution_count": 384,
   "id": "947a6eab",
   "metadata": {},
   "outputs": [
    {
     "data": {
      "text/plain": [
       "-0.1793042929944617"
      ]
     },
     "execution_count": 384,
     "metadata": {},
     "output_type": "execute_result"
    }
   ],
   "source": [
    "GB.score(X_test, y_test)"
   ]
  },
  {
   "cell_type": "code",
   "execution_count": 397,
   "id": "35efd8f4",
   "metadata": {},
   "outputs": [
    {
     "data": {
      "text/plain": [
       "32"
      ]
     },
     "execution_count": 397,
     "metadata": {},
     "output_type": "execute_result"
    }
   ],
   "source": [
    "len(y_test)"
   ]
  },
  {
   "cell_type": "code",
   "execution_count": 427,
   "id": "b64d61b2",
   "metadata": {},
   "outputs": [],
   "source": [
    "predicted_correctly_over = []\n",
    "for i in range(32):\n",
    "    predicted_correctly_over.append(y_preds[i] > 2 and np.array(y_test)[i] > 1.5)\n",
    "\n",
    "\n",
    "predicted_correctly_under = []\n",
    "for i in range(32):\n",
    "    predicted_correctly_under.append(y_preds[i] < 1 and np.array(y_test)[i] < 1.5)\n",
    "\n",
    "predicted_incorrectly_over = []\n",
    "for i in range(32):\n",
    "    predicted_incorrectly_over.append(y_preds[i] > 2 and np.array(y_test)[i] < 1.5)\n",
    "\n",
    "    \n",
    "predicted_incorrectly_under = []\n",
    "for i in range(32):\n",
    "    predicted_incorrectly_under.append(y_preds[i] < 2 and np.array(y_test)[i] > 1.5)\n"
   ]
  },
  {
   "cell_type": "code",
   "execution_count": 440,
   "id": "811acb80",
   "metadata": {},
   "outputs": [
    {
     "data": {
      "image/png": "[encoded data removed]",
      "text/plain": [
       "<Figure size 1000x800 with 1 Axes>"
      ]
     },
     "metadata": {},
     "output_type": "display_data"
    }
   ],
   "source": [
    "fig, ax = plt.subplots(figsize = (10, 8))\n",
    "\n",
    "bars = ['Predicted Correctly Over', 'Predicted Incorrectly Over', 'Predicted Correctly Under', 'Predicted Incorrectly Under']\n",
    "counts = [np.array(predicted_correctly_over).sum(), \n",
    "          np.array(predicted_incorrectly_over).sum(), \n",
    "          np.array(predicted_correctly_under).sum(),\n",
    "         np.array(predicted_incorrectly_under).sum()]\n",
    "bar_colors = ['tab:green', 'tab:red', 'tab:green', 'tab:red']\n",
    "\n",
    "ax.bar(bars, counts, color=bar_colors)hgyt\n",
    "\n",
    "ax.set_ylabel('Counts')\n",
    "ax.set_title('Correctly and incorrectly predicted outcomes')\n",
    "\n",
    "plt.show()"
   ]
  },
  {
   "cell_type": "code",
   "execution_count": null,
   "id": "d6deaf6a",
   "metadata": {},
   "outputs": [],
   "source": []
  }
 ],
 "metadata": {
  "kernelspec": {
   "display_name": "Python 3 (ipykernel)",
   "language": "python",
   "name": "python3"
  },
  "language_info": {
   "codemirror_mode": {
    "name": "ipython",
    "version": 3
   },
   "file_extension": ".py",
   "mimetype": "text/x-python",
   "name": "python",
   "nbconvert_exporter": "python",
   "pygments_lexer": "ipython3",
   "version": "3.11.4"
  }
 },
 "nbformat": 4,
 "nbformat_minor": 5
}
